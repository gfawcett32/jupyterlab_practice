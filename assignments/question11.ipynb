{
 "cells": [
  {
   "cell_type": "markdown",
   "id": "17c25479-0457-4c4f-92b8-1efd6d46cb58",
   "metadata": {},
   "source": [
    "# Graham Fawcett\n",
    "Notebook for assignment 7"
   ]
  },
  {
   "cell_type": "code",
   "execution_count": 5,
   "id": "03b8916f-685e-4849-9005-b47e12806323",
   "metadata": {},
   "outputs": [
    {
     "name": "stdout",
     "output_type": "stream",
     "text": [
      "5.0\n"
     ]
    }
   ],
   "source": [
    "def compute_mean(values):\n",
    "    if not values:\n",
    "        print(\"List is empty.\")\n",
    "        return\n",
    "    mean_value = sum(values) / len(values)\n",
    "    print(mean_value)\n",
    "\n",
    "# Calling the function with the list\n",
    "compute_mean([2, 4, 6, 8])"
   ]
  },
  {
   "cell_type": "markdown",
   "id": "9d022a16-5f85-48f0-a610-bcb0f2b573a4",
   "metadata": {},
   "source": [
    "The function `compute_mean` computes the arithmetic mean of a list of numbers. The arithmetic mean is calculated by summing all the numbers in the list and then dividing by the count of the numbers. \n",
    "\n",
    "The mean can be expressed in LaTeX as follows:\n",
    "\n",
    "The mean, often represented by the symbol \\( \\bar{x} \\), is defined by the equation:\n",
    "\n",
    "\\[ \\bar{x} = \\frac{1}{n} \\sum_{i=1}^{n} x_i \\]\n",
    "\n",
    "Alternatively, it can also be expressed as:\n",
    "\n",
    "\\[ \\bar{x} = \\frac{x_1 + x_2 + ... + x_n}{n} \\]\n"
   ]
  }
 ],
 "metadata": {
  "kernelspec": {
   "display_name": "Python 3 (ipykernel)",
   "language": "python",
   "name": "python3"
  },
  "language_info": {
   "codemirror_mode": {
    "name": "ipython",
    "version": 3
   },
   "file_extension": ".py",
   "mimetype": "text/x-python",
   "name": "python",
   "nbconvert_exporter": "python",
   "pygments_lexer": "ipython3",
   "version": "3.11.8"
  }
 },
 "nbformat": 4,
 "nbformat_minor": 5
}
